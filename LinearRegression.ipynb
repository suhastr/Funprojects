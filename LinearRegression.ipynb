{
  "nbformat": 4,
  "nbformat_minor": 0,
  "metadata": {
    "colab": {
      "provenance": [],
      "authorship_tag": "ABX9TyO1lwUqBLf9OmZ2un+CSr3a"
    },
    "kernelspec": {
      "name": "python3",
      "display_name": "Python 3"
    },
    "language_info": {
      "name": "python"
    }
  },
  "cells": [
    {
      "cell_type": "markdown",
      "source": [
        "#Linear Regression for car price"
      ],
      "metadata": {
        "id": "n9V36xiVqdF0"
      }
    },
    {
      "cell_type": "code",
      "source": [
        "import pandas as pd\n",
        "import sklearn.model_selection\n",
        "from sklearn import linear_model, preprocessing\n",
        "import pickle"
      ],
      "metadata": {
        "id": "F3-ZbVCx5Rq9"
      },
      "execution_count": 1,
      "outputs": []
    },
    {
      "cell_type": "code",
      "source": [
        "data = pd.read_csv('/car_price.csv')"
      ],
      "metadata": {
        "id": "a375S_K3_Y01"
      },
      "execution_count": 3,
      "outputs": []
    },
    {
      "cell_type": "code",
      "source": [
        "print(data.head())"
      ],
      "metadata": {
        "colab": {
          "base_uri": "https://localhost:8080/"
        },
        "id": "sNajAqxo_mPz",
        "outputId": "a396f25d-2588-4fbf-9086-792346775946"
      },
      "execution_count": 4,
      "outputs": [
        {
          "output_type": "stream",
          "name": "stdout",
          "text": [
            "  make_model body_type Body Color     km  hp Gearing Type  \\\n",
            "0    Audi A1    Sedans      Black  56013  85    Automatic   \n",
            "1    Audi A1    Sedans        Red  80000  85    Automatic   \n",
            "2    Audi A1    Sedans      Black  83450  85    Automatic   \n",
            "3    Audi A1    Sedans      Brown  73000  85    Automatic   \n",
            "4    Audi A1    Sedans      Black  16200  85    Automatic   \n",
            "\n",
            "                                              Extras  price  \n",
            "0     Alloy wheels,Catalytic Converter,Voice Control  15770  \n",
            "1  Alloy wheels,Sport seats,Sport suspension,Voic...  14500  \n",
            "2                         Alloy wheels,Voice Control  14640  \n",
            "3             Alloy wheels,Sport seats,Voice Control  14500  \n",
            "4  Alloy wheels,Sport package,Sport suspension,Vo...  16790  \n"
          ]
        }
      ]
    },
    {
      "cell_type": "code",
      "source": [
        "data.columns"
      ],
      "metadata": {
        "colab": {
          "base_uri": "https://localhost:8080/"
        },
        "id": "T-oQrsk8AoPv",
        "outputId": "0794ca4b-328c-4f67-80ef-ed5f474ff123"
      },
      "execution_count": 5,
      "outputs": [
        {
          "output_type": "execute_result",
          "data": {
            "text/plain": [
              "Index(['make_model', 'body_type', 'Body Color', 'km', 'hp', 'Gearing Type',\n",
              "       'Extras', 'price'],\n",
              "      dtype='object')"
            ]
          },
          "metadata": {},
          "execution_count": 5
        }
      ]
    },
    {
      "cell_type": "markdown",
      "source": [
        "# Preprocessing the values using label encoder"
      ],
      "metadata": {
        "id": "v22en1iS5eX7"
      }
    },
    {
      "cell_type": "code",
      "source": [
        "le = preprocessing.LabelEncoder()"
      ],
      "metadata": {
        "id": "5nRxjrgy5eA6"
      },
      "execution_count": 6,
      "outputs": []
    },
    {
      "cell_type": "code",
      "source": [
        "make_model = le.fit_transform(list(data['make_model']))\n",
        "body_type = le.fit_transform(list(data['body_type']))\n",
        "Body_Color = le.fit_transform(list(data['Body Color']))\n",
        "Gearing_Type = le.fit_transform(list(data['Gearing Type']))\n",
        "Extras = le.fit_transform(list(data['Extras']))"
      ],
      "metadata": {
        "id": "QWsh2nhMBJ9u"
      },
      "execution_count": 7,
      "outputs": []
    },
    {
      "cell_type": "code",
      "source": [
        "predict = 'price'"
      ],
      "metadata": {
        "id": "AbKta5_CDeHM"
      },
      "execution_count": 8,
      "outputs": []
    },
    {
      "cell_type": "code",
      "source": [
        "x = list(zip(make_model, body_type, Body_Color,list(data['km']),Gearing_Type,Extras))\n",
        "y = list(data['price'])"
      ],
      "metadata": {
        "id": "FaqLiP1cDpEw"
      },
      "execution_count": 35,
      "outputs": []
    },
    {
      "cell_type": "code",
      "source": [
        "x_train,x_test,y_train,y_test=sklearn.model_selection.train_test_split(x,y,test_size=0.01)"
      ],
      "metadata": {
        "id": "bbijLQt9D4e8"
      },
      "execution_count": 36,
      "outputs": []
    },
    {
      "cell_type": "code",
      "source": [
        "best = 0\n",
        "for _ in range(2000):\n",
        "  x_train,x_test,y_train,y_test=sklearn.model_selection.train_test_split(x,y,test_size=0.01)\n",
        "  linear = linear_model.LinearRegression()\n",
        "  linear.fit(x_train,y_train)\n",
        "  accuracy = linear.score(x_test,y_test)\n",
        "  if accuracy>best:\n",
        "    best = accuracy\n",
        "    with open('carmodel.pickle','wb') as f :\n",
        "      pickle.dump(linear,f)\n",
        "print(best)"
      ],
      "metadata": {
        "colab": {
          "base_uri": "https://localhost:8080/"
        },
        "id": "66wy8pufD-s4",
        "outputId": "0ad6a8dc-6695-4c36-9e21-9faf601581f4"
      },
      "execution_count": 37,
      "outputs": [
        {
          "output_type": "stream",
          "name": "stdout",
          "text": [
            "0.7826724989043371\n"
          ]
        }
      ]
    },
    {
      "cell_type": "code",
      "source": [
        "pickle_in = open('carmodel.pickle','rb')\n",
        "linear = pickle.load(pickle_in)"
      ],
      "metadata": {
        "id": "5m8Muce32hkm"
      },
      "execution_count": 38,
      "outputs": []
    },
    {
      "cell_type": "code",
      "source": [
        "predictions = linear.predict(x_test)\n",
        "for x in range(len(predictions)):\n",
        "  print(predictions[x],x_test[x],y_test[x])"
      ],
      "metadata": {
        "colab": {
          "base_uri": "https://localhost:8080/"
        },
        "id": "HcdX_5FOEpjJ",
        "outputId": "a73377f5-2fb7-4d12-ca09-9780af93c24d"
      },
      "execution_count": 39,
      "outputs": [
        {
          "output_type": "stream",
          "name": "stdout",
          "text": [
            "23005.925734920427 (2, 5, 6, 16300, 0, 143) 21480\n",
            "14661.053825245812 (2, 6, 9, 111900, 1, 0) 15930\n",
            "15675.364602720292 (2, 5, 11, 90000, 2, 0) 26000\n",
            "17800.97065841139 (0, 5, 8, 27634, 1, 17) 16261\n",
            "17305.24709638719 (0, 5, 1, 30757, 1, 216) 14490\n",
            "19558.106113193277 (0, 5, 11, 7060, 1, 0) 15900\n",
            "17344.560457739397 (0, 5, 2, 29343, 1, 0) 15500\n",
            "18832.74932749477 (0, 5, 6, 14800, 1, 247) 15950\n",
            "21924.802075423926 (2, 5, 11, 21425, 1, 20) 20990\n",
            "17017.695050323888 (0, 5, 1, 34701, 1, 253) 13950\n",
            "21992.887406062895 (2, 5, 2, 26168, 0, 87) 21400\n",
            "18400.852646264964 (2, 5, 1, 50000, 2, 203) 18300\n",
            "12060.006097351217 (0, 0, 2, 101087, 1, 0) 14390\n",
            "20981.11821253005 (0, 5, 11, 0, 0, 0) 28500\n",
            "20077.894771300802 (0, 0, 1, 10, 1, 277) 20988\n",
            "20376.80072869532 (0, 0, 2, 6100, 0, 20) 23467\n",
            "23116.58937666973 (2, 1, 8, 19800, 0, 170) 10893\n",
            "21806.90925798538 (2, 5, 4, 29241, 0, 0) 20800\n",
            "23546.03435326367 (2, 5, 9, 10500, 0, 20) 21400\n",
            "19310.71501852274 (0, 5, 1, 16000, 0, 181) 23000\n",
            "24290.72085682375 (2, 5, 6, 10, 0, 160) 26188\n",
            "19676.213446952977 (0, 5, 1, 11725, 0, 235) 15660\n",
            "18917.711664679555 (2, 5, 2, 53700, 1, 0) 16750\n",
            "23482.07824169963 (2, 5, 6, 10, 1, 268) 22588\n",
            "23482.15266814005 (2, 5, 9, 50, 1, 0) 24300\n",
            "20474.21964523656 (0, 5, 11, 6476, 0, 0) 20800\n",
            "18418.52361763646 (0, 5, 11, 21619, 1, 0) 16900\n",
            "24139.424902635583 (2, 5, 2, 1, 0, 259) 26500\n",
            "22400.041860367157 (2, 5, 11, 16800, 1, 218) 21500\n",
            "20220.70339878342 (2, 5, 9, 43500, 1, 244) 17860\n",
            "18981.46408004852 (0, 5, 11, 26000, 0, 62) 20000\n",
            "15472.402584831505 (2, 0, 1, 101280, 1, 0) 13990\n",
            "21075.41610993544 (0, 0, 5, 1000, 0, 270) 28400\n",
            "22549.0728644056 (2, 5, 9, 12000, 1, 4) 24970\n",
            "15778.575216003002 (0, 5, 1, 50707, 1, 277) 13500\n",
            "11778.394950032016 (0, 5, 6, 92000, 2, 0) 14300\n",
            "20892.13611558676 (0, 5, 8, 0, 0, 118) 29137\n",
            "19199.155095458384 (0, 0, 11, 17768, 1, 259) 15850\n",
            "18815.928507214263 (0, 0, 11, 22664, 1, 259) 16470\n",
            "16569.91789611271 (0, 5, 11, 58380, 0, 277) 13599\n",
            "16363.536670230189 (2, 5, 11, 104544, 0, 150) 16720\n",
            "18764.50080626382 (0, 5, 8, 15200, 1, 0) 15900\n",
            "23399.38507487378 (2, 0, 1, 7, 1, 0) 24490\n",
            "24353.713039373702 (2, 5, 6, 60, 0, 277) 26900\n",
            "20469.658710160904 (0, 5, 6, 5000, 0, 246) 28490\n",
            "18676.135154787404 (2, 5, 1, 45000, 2, 0) 35000\n",
            "23607.543032574195 (2, 5, 8, 10, 1, 305) 22388\n",
            "14823.437788440162 (2, 0, 1, 109571, 1, 0) 13500\n"
          ]
        }
      ]
    },
    {
      "cell_type": "code",
      "source": [],
      "metadata": {
        "id": "7N-s8h5HE6uu"
      },
      "execution_count": null,
      "outputs": []
    }
  ]
}