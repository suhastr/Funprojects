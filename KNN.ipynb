{
  "nbformat": 4,
  "nbformat_minor": 0,
  "metadata": {
    "colab": {
      "provenance": [],
      "authorship_tag": "ABX9TyNig0E0J4LRLIyNxF8/pqk3"
    },
    "kernelspec": {
      "name": "python3",
      "display_name": "Python 3"
    },
    "language_info": {
      "name": "python"
    }
  },
  "cells": [
    {
      "cell_type": "markdown",
      "source": [
        "**KNN**"
      ],
      "metadata": {
        "id": "8WQkGcuiGng_"
      }
    },
    {
      "cell_type": "code",
      "source": [
        "import sklearn\n",
        "import pandas as pd\n",
        "import sklearn.model_selection\n",
        "from sklearn import linear_model, preprocessing\n",
        "from sklearn.neighbors import KNeighborsClassifier"
      ],
      "metadata": {
        "id": "bhVJiKdJG8Mm"
      },
      "execution_count": 2,
      "outputs": []
    },
    {
      "cell_type": "code",
      "source": [
        "data = pd.read_csv('glass.csv')\n",
        "print(data.head())"
      ],
      "metadata": {
        "colab": {
          "base_uri": "https://localhost:8080/"
        },
        "id": "Z56cjEOOHLTh",
        "outputId": "c3cbff71-9e7b-47e3-9a30-cdfccead7891"
      },
      "execution_count": 8,
      "outputs": [
        {
          "output_type": "stream",
          "name": "stdout",
          "text": [
            "        RI     Na    Mg    Al     Si     K    Ca   Ba   Fe  Type\n",
            "0  1.52101  13.64  4.49  1.10  71.78  0.06  8.75  0.0  0.0     1\n",
            "1  1.51761  13.89  3.60  1.36  72.73  0.48  7.83  0.0  0.0     1\n",
            "2  1.51618  13.53  3.55  1.54  72.99  0.39  7.78  0.0  0.0     1\n",
            "3  1.51766  13.21  3.69  1.29  72.61  0.57  8.22  0.0  0.0     1\n",
            "4  1.51742  13.27  3.62  1.24  73.08  0.55  8.07  0.0  0.0     1\n"
          ]
        }
      ]
    },
    {
      "cell_type": "code",
      "source": [
        "predict = 'Type'"
      ],
      "metadata": {
        "id": "9bqo4go-HZ3g"
      },
      "execution_count": 9,
      "outputs": []
    },
    {
      "cell_type": "code",
      "source": [
        "x = list(zip(data['RI'],data['Na'],data['Mg'],data['Al'],data['Si'],data['K'],data['Ca'],data['Ba'],data['Fe']))\n",
        "y = list(data['Type'])"
      ],
      "metadata": {
        "id": "g3djjr4lIuCx"
      },
      "execution_count": 10,
      "outputs": []
    },
    {
      "cell_type": "code",
      "source": [
        "x_train,x_test,y_train,y_test=sklearn.model_selection.train_test_split(x,y,test_size=0.01)"
      ],
      "metadata": {
        "id": "Ty3TT_XsJOMV"
      },
      "execution_count": 22,
      "outputs": []
    },
    {
      "cell_type": "code",
      "source": [
        "model = KNeighborsClassifier(n_neighbors=3)\n",
        "model.fit(x_train,y_train)\n",
        "accuracy = model.score(x_test,y_test)\n",
        "print(accuracy)\n"
      ],
      "metadata": {
        "colab": {
          "base_uri": "https://localhost:8080/"
        },
        "id": "2H3S0VUtJRJj",
        "outputId": "6ab6ba10-c2c7-4a73-bee9-467d8dfd4f79"
      },
      "execution_count": 23,
      "outputs": [
        {
          "output_type": "stream",
          "name": "stdout",
          "text": [
            "1.0\n"
          ]
        }
      ]
    },
    {
      "cell_type": "code",
      "source": [
        "predicted = model.predict(x_test)"
      ],
      "metadata": {
        "id": "QW-4jx0HJT_c"
      },
      "execution_count": 24,
      "outputs": []
    },
    {
      "cell_type": "code",
      "source": [
        "names = ['building_windows_float_processed','building_windows_non_float_processed','vehicle_windows_float_processed','vehicle_windows_non_float_processed','containers','tableware','headlamps']"
      ],
      "metadata": {
        "id": "HpXPlY97KsHB"
      },
      "execution_count": 32,
      "outputs": []
    },
    {
      "cell_type": "code",
      "source": [
        "\n",
        "for x in range(len(predicted)):\n",
        "  print(\"Predicted :\", names[predicted[x]-1], 'data: ', x_test[x], 'Actual: ',names[y_test[x]-1])\n",
        "  n = model.kneighbors([x_test[x]],3,True)\n",
        "  print(\"N: \", n)"
      ],
      "metadata": {
        "colab": {
          "base_uri": "https://localhost:8080/"
        },
        "id": "_AqP0A7_JpqO",
        "outputId": "fac64918-1ef0-4f6d-9374-3b58c926a0fc"
      },
      "execution_count": 46,
      "outputs": [
        {
          "output_type": "stream",
          "name": "stdout",
          "text": [
            "Predicted : headlamps data:  (1.51711, 14.23, 0.0, 2.08, 73.36, 0.0, 8.62, 1.67, 0.0) Actual:  headlamps\n",
            "N:  (array([[0.23960912, 0.36633367, 0.38561649]]), array([[198,  40,  99]]))\n",
            "Predicted : tableware data:  (1.51905, 14.0, 2.39, 1.56, 72.37, 0.0, 9.57, 0.0, 0.0) Actual:  tableware\n",
            "N:  (array([[0.45891206, 0.57784131, 0.61114655]]), array([[ 23, 153, 159]]))\n",
            "Predicted : building_windows_float_processed data:  (1.51755, 12.71, 3.42, 1.2, 73.2, 0.59, 8.64, 0.0, 0.0) Actual:  building_windows_float_processed\n",
            "N:  (array([[0.20199011, 0.2598079 , 0.26476408]]), array([[ 77, 128, 192]]))\n"
          ]
        }
      ]
    },
    {
      "cell_type": "code",
      "source": [],
      "metadata": {
        "id": "9R5x7gSXKCSf"
      },
      "execution_count": null,
      "outputs": []
    }
  ]
}